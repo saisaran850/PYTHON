{
 "cells": [
  {
   "cell_type": "code",
   "execution_count": 3,
   "id": "37ff1f3d",
   "metadata": {},
   "outputs": [
    {
     "name": "stdout",
     "output_type": "stream",
     "text": [
      "your order is not available:\n"
     ]
    }
   ],
   "source": [
    "Y=[\"PONGAL\",\"LADDU\",\"VADA\",\"PULIHORA\"]\n",
    "K=[\"BIRYANI\",\"FISH\",\"CHICKEN\",\"PRAWNS\"]\n",
    "if Y==\"PAPAD\":\n",
    "    print(\"your order is available:\")\n",
    "elif K!=\"DUM BIRYANI\":                                    # VEG AND NON VEG PROGRAM USING CONDITIONAL STATEMENTS\n",
    "    print(\"your order is not available:\")\n",
    "else:\n",
    "    print(\"your order is to make few days:\")\n",
    "    "
   ]
  }
 ],
 "metadata": {
  "kernelspec": {
   "display_name": "Python 3 (ipykernel)",
   "language": "python",
   "name": "python3"
  },
  "language_info": {
   "codemirror_mode": {
    "name": "ipython",
    "version": 3
   },
   "file_extension": ".py",
   "mimetype": "text/x-python",
   "name": "python",
   "nbconvert_exporter": "python",
   "pygments_lexer": "ipython3",
   "version": "3.11.5"
  }
 },
 "nbformat": 4,
 "nbformat_minor": 5
}
