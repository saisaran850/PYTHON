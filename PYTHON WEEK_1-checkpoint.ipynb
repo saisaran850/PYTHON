{
 "cells": [
  {
   "cell_type": "code",
   "execution_count": 1,
   "id": "5222f8a6",
   "metadata": {},
   "outputs": [
    {
     "name": "stdout",
     "output_type": "stream",
     "text": [
      "56\n"
     ]
    }
   ],
   "source": [
    "A=56\n",
    "print(A)                                         # ASSIGNING VALUE TO A VARIABLE\n",
    "                                                             "
   ]
  },
  {
   "cell_type": "code",
   "execution_count": 6,
   "id": "a039caa7",
   "metadata": {},
   "outputs": [
    {
     "name": "stdout",
     "output_type": "stream",
     "text": [
      "45\n",
      "68.9\n",
      "SHIRDI\n",
      "(9+7j)\n"
     ]
    }
   ],
   "source": [
    "S=45\n",
    "A=68.9\n",
    "B=\"SHIRDI\"\n",
    "C=9+7J\n",
    "print(S)                                  # ASSIGNING DIFF VALUES TO INT,FLOAT,STRING,COMPLEX\n",
    "print(A)                                                     \n",
    "print(B)\n",
    "print(C)\n"
   ]
  },
  {
   "cell_type": "code",
   "execution_count": 3,
   "id": "52a0876f",
   "metadata": {},
   "outputs": [
    {
     "name": "stdout",
     "output_type": "stream",
     "text": [
      "75.0\n",
      "85\n",
      "(75+0j)\n"
     ]
    }
   ],
   "source": [
    "D=75\n",
    "E=85.8\n",
    "F=9+6J\n",
    "K=float(D)\n",
    "L=int(E)                                # CONVERSION OF INT TO FLOAT,FLOAT TO INT,INT TO COMPLEX\n",
    "M=complex(D)\n",
    "print(K)\n",
    "print(L)\n",
    "print(M)\n"
   ]
  },
  {
   "cell_type": "code",
   "execution_count": 4,
   "id": "9b5226e0",
   "metadata": {},
   "outputs": [
    {
     "name": "stdout",
     "output_type": "stream",
     "text": [
      "True\n",
      "False\n",
      "True\n",
      "False\n"
     ]
    }
   ],
   "source": [
    "print(755>678)\n",
    "print(678==899)\n",
    "print(756!=945                       # CHECKING THE BOOLEAN FUNCTION WHETHER IT RETURNS TRUE OR FALSE\n",
    "print(689<580)\n"
   ]
  },
  {
   "cell_type": "code",
   "execution_count": 5,
   "id": "d7cfb66d",
   "metadata": {},
   "outputs": [
    {
     "name": "stdout",
     "output_type": "stream",
     "text": [
      "164\n",
      "14\n",
      "6675\n",
      "1.1866666666666668\n",
      "160048090991328585970497799497983321967220566570634771859854167668827291996230167371329321760174751030402623727851669472527005106684936862989754249\n",
      "1\n",
      "14\n"
     ]
    }
   ],
   "source": [
    "S=89\n",
    "T=75\n",
    "U=S+T\n",
    "V=S-T\n",
    "W=S*T\n",
    "X=S/T                                    # ARITHMETIC OPERATORS WITH FINDING THE DIFF OPERATIONS\n",
    "Y=S**T\n",
    "Z=S//T\n",
    "A=S%T\n",
    "print(U)\n",
    "print(V)\n",
    "print(W)\n",
    "print(X)\n",
    "print(Y)\n",
    "print(Z)\n",
    "print(A)\n"
   ]
  },
  {
   "cell_type": "code",
   "execution_count": null,
   "id": "d8ea866f",
   "metadata": {},
   "outputs": [],
   "source": []
  }
 ],
 "metadata": {
  "kernelspec": {
   "display_name": "Python 3 (ipykernel)",
   "language": "python",
   "name": "python3"
  },
  "language_info": {
   "codemirror_mode": {
    "name": "ipython",
    "version": 3
   },
   "file_extension": ".py",
   "mimetype": "text/x-python",
   "name": "python",
   "nbconvert_exporter": "python",
   "pygments_lexer": "ipython3",
   "version": "3.11.5"
  }
 },
 "nbformat": 4,
 "nbformat_minor": 5
}
