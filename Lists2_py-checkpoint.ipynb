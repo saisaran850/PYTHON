{
 "cells": [
  {
   "cell_type": "markdown",
   "id": "57996a51",
   "metadata": {},
   "source": [
    "                                                      # ASSIGNMENT 3\n",
    "                                                      "
   ]
  },
  {
   "cell_type": "code",
   "execution_count": 7,
   "id": "86e6fe01",
   "metadata": {},
   "outputs": [
    {
     "name": "stdout",
     "output_type": "stream",
     "text": [
      "3\n"
     ]
    }
   ],
   "source": [
    "a=[1,2,3,4,5]\n",
    "print(a[2])\n"
   ]
  },
  {
   "cell_type": "code",
   "execution_count": 8,
   "id": "0d204a3e",
   "metadata": {},
   "outputs": [
    {
     "name": "stdout",
     "output_type": "stream",
     "text": [
      "[4, 5, 6]\n"
     ]
    }
   ],
   "source": [
    "a=[3,4,5,6,7]\n",
    "print(a[1:4])\n"
   ]
  },
  {
   "cell_type": "code",
   "execution_count": 9,
   "id": "ba0063b3",
   "metadata": {},
   "outputs": [
    {
     "name": "stdout",
     "output_type": "stream",
     "text": [
      "7\n"
     ]
    }
   ],
   "source": [
    "a=[4,5,6,7,8]\n",
    "print(a[-2])\n"
   ]
  },
  {
   "cell_type": "code",
   "execution_count": 10,
   "id": "dfa88176",
   "metadata": {},
   "outputs": [
    {
     "name": "stdout",
     "output_type": "stream",
     "text": [
      "[7, 8, 9]\n"
     ]
    }
   ],
   "source": [
    "a=[5,6,7,8,9]\n",
    "print(a[2:])\n"
   ]
  },
  {
   "cell_type": "code",
   "execution_count": 11,
   "id": "b64a16bc",
   "metadata": {},
   "outputs": [
    {
     "name": "stdout",
     "output_type": "stream",
     "text": [
      "[10, 12, 14, 16, 18, 20, 25]\n"
     ]
    }
   ],
   "source": [
    "Y=[10,12,14,16,18,20]\n",
    "Y.append(25)                                               # APPEND OF LIST\n",
    "print(Y)\n"
   ]
  },
  {
   "cell_type": "code",
   "execution_count": 19,
   "id": "0b987c78",
   "metadata": {},
   "outputs": [
    {
     "name": "stdout",
     "output_type": "stream",
     "text": [
      "[3, 4, 5, 6, 7, 8, 9, 10]\n"
     ]
    }
   ],
   "source": [
    "N=[3,4,5,6,7,8]\n",
    "N.extend([9,10])                                           # EXTEND OF LIST\n",
    "print(N)\n"
   ]
  },
  {
   "cell_type": "code",
   "execution_count": 38,
   "id": "8398fc70",
   "metadata": {},
   "outputs": [
    {
     "name": "stdout",
     "output_type": "stream",
     "text": [
      "['maths', 'physics', 'chemistry', 50985, 235, 867, 985]\n"
     ]
    }
   ],
   "source": [
    "K=[\"maths\",\"physics\",\"chemistry\",235,867,985]\n",
    "K.insert(3,50985)                                           #INSERT METHOD OF LIST\n",
    "print(K)\n"
   ]
  },
  {
   "cell_type": "code",
   "execution_count": 39,
   "id": "f63622c8",
   "metadata": {},
   "outputs": [
    {
     "name": "stdout",
     "output_type": "stream",
     "text": [
      "[1, 2, 3, 4, 5, 6, 7, 8, 9, 10]\n"
     ]
    }
   ],
   "source": [
    "U=[1,2,3,4,5]\n",
    "V=[6,7,8,9,10]\n",
    "W=U+V                                                        #CONCATENATION OF LIST\n",
    "print(W)\n"
   ]
  },
  {
   "cell_type": "code",
   "execution_count": 1,
   "id": "de6901d6",
   "metadata": {},
   "outputs": [
    {
     "name": "stdout",
     "output_type": "stream",
     "text": [
      "[23, 69.8, 'SAI', 23, 69.8, 'SAI', 23, 69.8, 'SAI', 23, 69.8, 'SAI']\n"
     ]
    }
   ],
   "source": [
    "R=[23,69.8,\"SAI\"]\n",
    "S=R*4                                                        # REPITITION OF LIST\n",
    "print(S)\n"
   ]
  }
 ],
 "metadata": {
  "kernelspec": {
   "display_name": "Python 3 (ipykernel)",
   "language": "python",
   "name": "python3"
  },
  "language_info": {
   "codemirror_mode": {
    "name": "ipython",
    "version": 3
   },
   "file_extension": ".py",
   "mimetype": "text/x-python",
   "name": "python",
   "nbconvert_exporter": "python",
   "pygments_lexer": "ipython3",
   "version": "3.11.5"
  }
 },
 "nbformat": 4,
 "nbformat_minor": 5
}
