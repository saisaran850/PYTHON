{
 "cells": [
  {
   "cell_type": "code",
   "execution_count": 3,
   "id": "1ef77e5a",
   "metadata": {},
   "outputs": [
    {
     "name": "stdout",
     "output_type": "stream",
     "text": [
      "original array:\n",
      " [[[20 21 22 23 24]\n",
      "  [26 27 28 29 30]]\n",
      "\n",
      " [[32 33 34 35 36]\n",
      "  [38 39 40 41 42]]\n",
      "\n",
      " [[44 45 46 47 48]\n",
      "  [50 51 52 53 54]]\n",
      "\n",
      " [[56 57 58 59 60]\n",
      "  [62 63 64 65 66]]\n",
      "\n",
      " [[68 69 70 71 72]\n",
      "  [74 75 76 77 78]]]\n",
      "reshaped array:\n",
      " [[20 21 22 23 24]\n",
      " [26 27 28 29 30]\n",
      " [32 33 34 35 36]\n",
      " [38 39 40 41 42]\n",
      " [44 45 46 47 48]\n",
      " [50 51 52 53 54]\n",
      " [56 57 58 59 60]\n",
      " [62 63 64 65 66]\n",
      " [68 69 70 71 72]\n",
      " [74 75 76 77 78]]\n"
     ]
    }
   ],
   "source": [
    "import numpy as ns\n",
    "array=ns.array([[[20,21,22,23,24], \n",
    "              [26,27,28,29,30]],\n",
    "              \n",
    "              [[32,33,34,35,36],\n",
    "              [38,39,40,41,42]],\n",
    "              \n",
    "              [[44,45,46,47,48],\n",
    "              [50,51,52,53,54]],          # Creating 3D to 2D array\n",
    "              \n",
    "              [[56,57,58,59,60],\n",
    "              [62,63,64,65,66]],\n",
    "              \n",
    "              [[68,69,70,71,72],\n",
    "              [74,75,76,77,78]]])\n",
    "reshaped_array=ns.reshape(array,(10,5))\n",
    "print(\"original array:\\n\",array)\n",
    "print(\"reshaped array:\\n\",reshaped_array)\n"
   ]
  },
  {
   "cell_type": "code",
   "execution_count": 10,
   "id": "2b24cf99",
   "metadata": {},
   "outputs": [
    {
     "name": "stdout",
     "output_type": "stream",
     "text": [
      "[[[10 11 12]\n",
      "  [13 14 15]\n",
      "  [16 17 18]]\n",
      "\n",
      " [[19 20 21]\n",
      "  [22 23 24]\n",
      "  [25 26 27]]\n",
      "\n",
      " [[28 29 30]\n",
      "  [31 32 33]\n",
      "  [34 35 36]]]\n"
     ]
    }
   ],
   "source": [
    "import numpy as ns\n",
    "array=ns.array([10,11,12,13,14,15,16,17,18,19,20,21,22,23,24,25,26,27,28,29,30,31,32,33,34,35,36])\n",
    "newarray=array.reshape(3,3,3)\n",
    "print(newarray)                             # Creating 1D to 3D array\n"
   ]
  },
  {
   "cell_type": "code",
   "execution_count": 14,
   "id": "6503618f",
   "metadata": {},
   "outputs": [
    {
     "name": "stdout",
     "output_type": "stream",
     "text": [
      "[[10 12 14 16 18 20 22 24 26 28]\n",
      " [30 32 34 36 38 40 42 44 46 48]\n",
      " [50 52 54 56 58 60 62 64 66 68]]\n"
     ]
    }
   ],
   "source": [
    "import numpy as ns\n",
    "array=ns.array([10,12,14,16,18,20,22,24,26,28,30,32,34,36,38,40,42,44,46,48,50,52,54,56,58,60,62,64,66,68])\n",
    "newarray=array.reshape(3,10)\n",
    "print(newarray)                    # Creating 1D to 2D array\n"
   ]
  }
 ],
 "metadata": {
  "kernelspec": {
   "display_name": "Python 3 (ipykernel)",
   "language": "python",
   "name": "python3"
  },
  "language_info": {
   "codemirror_mode": {
    "name": "ipython",
    "version": 3
   },
   "file_extension": ".py",
   "mimetype": "text/x-python",
   "name": "python",
   "nbconvert_exporter": "python",
   "pygments_lexer": "ipython3",
   "version": "3.11.5"
  }
 },
 "nbformat": 4,
 "nbformat_minor": 5
}
