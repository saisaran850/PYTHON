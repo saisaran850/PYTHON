{
 "cells": [
  {
   "cell_type": "code",
   "execution_count": 19,
   "id": "79066530",
   "metadata": {},
   "outputs": [
    {
     "name": "stdout",
     "output_type": "stream",
     "text": [
      "hai,my location is JIYA GUDA\n"
     ]
    }
   ],
   "source": [
    "def yellow(location):\n",
    "    print(f\"hai,my location is {location}\")                      # CALLING THE FUNCTION\n",
    "yellow(\"JIYA GUDA\")"
   ]
  },
  {
   "cell_type": "code",
   "execution_count": 5,
   "id": "d3411d60",
   "metadata": {},
   "outputs": [
    {
     "name": "stdout",
     "output_type": "stream",
     "text": [
      "sub: 92\n",
      "mul: 285\n",
      "div: 31.666666666666668\n",
      "modulus: 2\n"
     ]
    }
   ],
   "source": [
    "def num(num1,num2):\n",
    "    sub=num1-num2\n",
    "    mul=num1*num2\n",
    "    div=num1/num2                                   \n",
    "    modulus=num1%num2                              # sub,mul,div,modulus with the FUNCTION\n",
    "    print(\"sub:\",sub)\n",
    "    print(\"mul:\",mul)\n",
    "    print(\"div:\",div)\n",
    "    print(\"modulus:\",modulus)\n",
    "num(95,3)\n"
   ]
  },
  {
   "cell_type": "code",
   "execution_count": 6,
   "id": "83a999a2",
   "metadata": {},
   "outputs": [
    {
     "data": {
      "text/plain": [
       "16"
      ]
     },
     "execution_count": 6,
     "metadata": {},
     "output_type": "execute_result"
    }
   ],
   "source": [
    "def mul(num):\n",
    "    result=num * num                                # RETURN STATEMENT\n",
    "    return result\n",
    "mul(4)"
   ]
  },
  {
   "cell_type": "code",
   "execution_count": 7,
   "id": "7d57351e",
   "metadata": {},
   "outputs": [
    {
     "name": "stdout",
     "output_type": "stream",
     "text": [
      "sqrt of 441 is 21.0\n",
      "15 to the power 2 is 225\n"
     ]
    }
   ],
   "source": [
    "import math\n",
    "sqrt=math.sqrt(441)\n",
    "print(\"sqrt of 441 is\",sqrt)                      #sqrt and power using the FUNCTIONS\n",
    "power=pow(15,2)\n",
    "print(\"15 to the power 2 is\",power)\n"
   ]
  },
  {
   "cell_type": "code",
   "execution_count": 8,
   "id": "298f69cb",
   "metadata": {},
   "outputs": [
    {
     "name": "stdout",
     "output_type": "stream",
     "text": [
      "10000\n"
     ]
    }
   ],
   "source": [
    "U=lambda K : K * 10\n",
    "print(U(1000))                                     # syntax of LAMBDA\n",
    "                                                 "
   ]
  },
  {
   "cell_type": "code",
   "execution_count": 15,
   "id": "a7eed5ad",
   "metadata": {},
   "outputs": [
    {
     "name": "stdout",
     "output_type": "stream",
     "text": [
      "3.3777777777777778\n"
     ]
    }
   ],
   "source": [
    "K= lambda M,N : M/N\n",
    "P= K(1520,450)                                    # DIV with Lambda\n",
    "print(P)\n"
   ]
  },
  {
   "cell_type": "code",
   "execution_count": 20,
   "id": "1f497f98",
   "metadata": {},
   "outputs": [
    {
     "name": "stdout",
     "output_type": "stream",
     "text": [
      "From Durgam Cheruvu metro station to Teks Academy the time taken is nearly 20 to 25 minutes\n"
     ]
    }
   ],
   "source": [
    "def N():\n",
    "    B=\"From Durgam Cheruvu metro station to Teks Academy the time taken is nearly 20 to 25 minutes\"\n",
    "    print(B)\n",
    "N()\n",
    "                                                # Local variables using FUNCTION\n",
    "    "
   ]
  },
  {
   "cell_type": "code",
   "execution_count": 22,
   "id": "f0395ebb",
   "metadata": {},
   "outputs": [
    {
     "name": "stdout",
     "output_type": "stream",
     "text": [
      "This function is Python Programs for Data Science\n"
     ]
    }
   ],
   "source": [
    "H=\"Python Programs for Data Science\"\n",
    "def C():\n",
    "    print(\"This function is\",H)               # Global variables using FUNCTION\n",
    "C()    "
   ]
  },
  {
   "cell_type": "code",
   "execution_count": 31,
   "id": "41e2d7c5",
   "metadata": {},
   "outputs": [
    {
     "name": "stdout",
     "output_type": "stream",
     "text": [
      "Diyan dev\n",
      "3\n"
     ]
    }
   ],
   "source": [
    "class person:\n",
    "    def __init__(self,name,age):\n",
    "        self.name=name                      # Creating class and object with Function\n",
    "        self.age=age\n",
    "P1=person(\"Diyan dev\",3)\n",
    "print(P1.name)\n",
    "print(P1.age)"
   ]
  },
  {
   "cell_type": "code",
   "execution_count": null,
   "id": "770ec8ee",
   "metadata": {},
   "outputs": [],
   "source": []
  }
 ],
 "metadata": {
  "kernelspec": {
   "display_name": "Python 3 (ipykernel)",
   "language": "python",
   "name": "python3"
  },
  "language_info": {
   "codemirror_mode": {
    "name": "ipython",
    "version": 3
   },
   "file_extension": ".py",
   "mimetype": "text/x-python",
   "name": "python",
   "nbconvert_exporter": "python",
   "pygments_lexer": "ipython3",
   "version": "3.11.5"
  }
 },
 "nbformat": 4,
 "nbformat_minor": 5
}
