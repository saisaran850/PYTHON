{
 "cells": [
  {
   "cell_type": "code",
   "execution_count": 1,
   "id": "fdeeca00",
   "metadata": {},
   "outputs": [
    {
     "name": "stdout",
     "output_type": "stream",
     "text": [
      "[2, 3, 4, 5, 7]\n"
     ]
    }
   ],
   "source": [
    "\n",
    "U=[2,3,4,5,6,7]\n",
    "U.remove(6)                                             # REMOVE OF THE LIST\n",
    "print(U)\n"
   ]
  },
  {
   "cell_type": "code",
   "execution_count": 2,
   "id": "6aa7632c",
   "metadata": {},
   "outputs": [
    {
     "name": "stdout",
     "output_type": "stream",
     "text": [
      "[10, 12, 14, 16, 20]\n"
     ]
    }
   ],
   "source": [
    "L=[10,12,14,16,18,20]\n",
    "L.pop(4)                                               # POP OF THE LIST\n",
    "print(L)"
   ]
  },
  {
   "cell_type": "code",
   "execution_count": 3,
   "id": "e2e709e3",
   "metadata": {},
   "outputs": [
    {
     "name": "stdout",
     "output_type": "stream",
     "text": [
      "4\n"
     ]
    }
   ],
   "source": [
    "N=[11,12,13,15,17,19]\n",
    "N.index(17)                                               # INDEX OF THE LIST\n",
    "print(N.index(17))"
   ]
  },
  {
   "cell_type": "code",
   "execution_count": 4,
   "id": "b3efbc8d",
   "metadata": {},
   "outputs": [
    {
     "name": "stdout",
     "output_type": "stream",
     "text": [
      "3\n"
     ]
    }
   ],
   "source": [
    "R=[15,25,25,25,55,65,75]\n",
    "R.count(25)                                               # COUNT OF THE LIST\n",
    "print(R.count(25)) "
   ]
  },
  {
   "cell_type": "code",
   "execution_count": 5,
   "id": "b2d34591",
   "metadata": {},
   "outputs": [
    {
     "name": "stdout",
     "output_type": "stream",
     "text": [
      "['Apple', 'Banana', 'Cherry', 'grapes']\n"
     ]
    }
   ],
   "source": [
    "K=[\"Cherry\",\"Banana\",\"Apple\",\"grapes\"]\n",
    "K.sort()                                                  # SORT OF THE LIST\n",
    "print(K)\n"
   ]
  },
  {
   "cell_type": "code",
   "execution_count": 6,
   "id": "f4f7b329",
   "metadata": {},
   "outputs": [
    {
     "name": "stdout",
     "output_type": "stream",
     "text": [
      "[1.5, 1.4, 1.3, 1.2, 1.1]\n"
     ]
    }
   ],
   "source": [
    "P=[1.1,1.2,1.3,1.4,1.5]\n",
    "P.reverse()                                               # REVERSE OF THE LIST\n",
    "print(P)\n"
   ]
  },
  {
   "cell_type": "code",
   "execution_count": 7,
   "id": "4ee41a78",
   "metadata": {},
   "outputs": [
    {
     "name": "stdout",
     "output_type": "stream",
     "text": [
      "n\n",
      "ai,s\n"
     ]
    }
   ],
   "source": [
    "P=\"sai,saran\"\n",
    "print(P[8])                                               # SLICING OF THE STRING\n",
    "print(P[1:5])\n"
   ]
  },
  {
   "cell_type": "code",
   "execution_count": 8,
   "id": "c1a1cd96",
   "metadata": {},
   "outputs": [
    {
     "name": "stdout",
     "output_type": "stream",
     "text": [
      "java python\n"
     ]
    }
   ],
   "source": [
    "Y=\"java\"\n",
    "Z=\"python\"                                                  # CONCATENATION OF STRING\n",
    "K=Y+\" \"+Z\n",
    "print(K)\n"
   ]
  },
  {
   "cell_type": "code",
   "execution_count": 9,
   "id": "e17f4abc",
   "metadata": {},
   "outputs": [
    {
     "name": "stdout",
     "output_type": "stream",
     "text": [
      "['data scientist', 'data analyst', 'data engineer', 'database developer', 'data scientist', 'data analyst', 'data engineer', 'database developer']\n"
     ]
    }
   ],
   "source": [
    "G=[\"data scientist\",\"data analyst\",\"data engineer\",\"database developer\"]\n",
    "P=G*2                                                                           # REPETITION OF STRING\n",
    "print(P)\n"
   ]
  },
  {
   "cell_type": "code",
   "execution_count": 10,
   "id": "7cf0fc1f",
   "metadata": {},
   "outputs": [
    {
     "name": "stdout",
     "output_type": "stream",
     "text": [
      "the age  is32\n"
     ]
    }
   ],
   "source": [
    "\n",
    "age = 32\n",
    "y=\"the age  is{}\"\n",
    "print(y.format(age))                                                          # STRING FORMAT METHOD\n"
   ]
  },
  {
   "cell_type": "code",
   "execution_count": 11,
   "id": "a0ea4038",
   "metadata": {},
   "outputs": [
    {
     "name": "stdout",
     "output_type": "stream",
     "text": [
      "hai,My name is akshay and I'm 33 years old and my location ishyderabad and my qualification is btech\n"
     ]
    }
   ],
   "source": [
    "name=\"akshay\"\n",
    "age = 33                                                                       # FORMAT 2 METHOD OF STRING\n",
    "location=\"hyderabad\"\n",
    "qualification=\"btech\"\n",
    "print(f\"hai,My name is {name} and I'm {age} years old and my location is{location} and my qualification is {qualification}\")\n"
   ]
  },
  {
   "cell_type": "code",
   "execution_count": 12,
   "id": "5ba10e7f",
   "metadata": {},
   "outputs": [
    {
     "name": "stdout",
     "output_type": "stream",
     "text": [
      "9\n"
     ]
    }
   ],
   "source": [
    "K=\"sai saran\"\n",
    "print(len(K))\n",
    "                                                                                # LENGTH OF STRING"
   ]
  },
  {
   "cell_type": "code",
   "execution_count": 13,
   "id": "1495e532",
   "metadata": {},
   "outputs": [
    {
     "name": "stdout",
     "output_type": "stream",
     "text": [
      "dheeraj\n"
     ]
    }
   ],
   "source": [
    "U=\"DHEERAJ\"\n",
    "print(U.lower())                                                                 # LOWER OF STRING\n"
   ]
  },
  {
   "cell_type": "code",
   "execution_count": 14,
   "id": "9f8ccd7c",
   "metadata": {},
   "outputs": [
    {
     "name": "stdout",
     "output_type": "stream",
     "text": [
      "AMITABH\n"
     ]
    }
   ],
   "source": [
    "L=\"amitabh\"\n",
    "print(L.upper())                                                                 # UPPER OF STRING\n"
   ]
  },
  {
   "cell_type": "code",
   "execution_count": 15,
   "id": "61728a20",
   "metadata": {},
   "outputs": [
    {
     "name": "stdout",
     "output_type": "stream",
     "text": [
      "['python', 'programming', 'is', 'object', 'oriented', 'language']\n"
     ]
    }
   ],
   "source": [
    "J=\"python programming is object oriented language\"\n",
    "J.split()                                                                        \n",
    "print(J.split())                                                                # SPLIT OF STRING\n"
   ]
  },
  {
   "cell_type": "code",
   "execution_count": 16,
   "id": "52bf42a5",
   "metadata": {},
   "outputs": [
    {
     "name": "stdout",
     "output_type": "stream",
     "text": [
      "PYTHON  IS EASY TO UNDERSTAND\n"
     ]
    }
   ],
   "source": [
    "U=  \" PYTHON  IS EASY TO UNDERSTAND  \"\n",
    "U.strip()                                                                       # STRIP OF STRING\n",
    "print(U.strip())\n"
   ]
  },
  {
   "cell_type": "code",
   "execution_count": 17,
   "id": "78fa7711",
   "metadata": {},
   "outputs": [
    {
     "name": "stdout",
     "output_type": "stream",
     "text": [
      "TODAY CLASS IS UNDERSTANDABLE\n"
     ]
    }
   ],
   "source": [
    "\n",
    "Y=\"TODAY CLASS IS DIFFICULTY\"\n",
    "print(Y.replace(\"DIFFICULTY\",\"UNDERSTANDABLE\"))                                 # REPLACE OF STRING\n"
   ]
  },
  {
   "cell_type": "code",
   "execution_count": null,
   "id": "79c17774",
   "metadata": {},
   "outputs": [],
   "source": []
  }
 ],
 "metadata": {
  "kernelspec": {
   "display_name": "Python 3 (ipykernel)",
   "language": "python",
   "name": "python3"
  },
  "language_info": {
   "codemirror_mode": {
    "name": "ipython",
    "version": 3
   },
   "file_extension": ".py",
   "mimetype": "text/x-python",
   "name": "python",
   "nbconvert_exporter": "python",
   "pygments_lexer": "ipython3",
   "version": "3.11.5"
  }
 },
 "nbformat": 4,
 "nbformat_minor": 5
}
