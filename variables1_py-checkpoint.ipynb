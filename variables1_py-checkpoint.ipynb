{
 "cells": [
  {
   "cell_type": "code",
   "execution_count": null,
   "id": "8a5827cf",
   "metadata": {},
   "outputs": [],
   "source": [
    "                                                 ASSIGNMENT 1\n",
    "    "
   ]
  },
  {
   "cell_type": "raw",
   "id": "9a891f6b",
   "metadata": {},
   "source": [
    "Rules to create variables\n",
    "1.variable does start with Alphabets(A to Z,a to z,0 to 9, and underscore(_)\n",
    "2.variable can not start with numbers,special symbols\n",
    "3.variables are case sensitive"
   ]
  },
  {
   "cell_type": "code",
   "execution_count": 4,
   "id": "943ac4dc",
   "metadata": {},
   "outputs": [],
   "source": [
    " A=10\n",
    " R=11\n",
    " B=12\n",
    " C=13                                          # Variables with capital letters\n",
    " Dheer=14\n",
    " Yaariyan=15\n",
    " Theeran=16\n",
    " GH123=17\n",
    " HI=18\n",
    " LI=19\n",
    "\n"
   ]
  },
  {
   "cell_type": "code",
   "execution_count": 5,
   "id": "a5f35f42",
   "metadata": {},
   "outputs": [],
   "source": [
    "e2=12.3\n",
    "vi=\"sai\"\n",
    "cu=92 \n",
    "ty=56\n",
    "gi67=30.7                            # Variables with small letters\n",
    "fw_a=56 \n",
    "id_k=78 \n",
    "saran=90\n",
    "ki_b=75 \n",
    "yd2=89\n",
    "\n"
   ]
  }
 ],
 "metadata": {
  "kernelspec": {
   "display_name": "Python 3 (ipykernel)",
   "language": "python",
   "name": "python3"
  },
  "language_info": {
   "codemirror_mode": {
    "name": "ipython",
    "version": 3
   },
   "file_extension": ".py",
   "mimetype": "text/x-python",
   "name": "python",
   "nbconvert_exporter": "python",
   "pygments_lexer": "ipython3",
   "version": "3.11.5"
  }
 },
 "nbformat": 4,
 "nbformat_minor": 5
}
