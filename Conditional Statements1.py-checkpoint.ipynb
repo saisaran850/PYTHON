{
 "cells": [
  {
   "cell_type": "code",
   "execution_count": 1,
   "id": "7159e2ee",
   "metadata": {},
   "outputs": [
    {
     "name": "stdout",
     "output_type": "stream",
     "text": [
      "enter software salary per month:780000\n",
      "enter income tax per month:200000\n",
      "you have no tax for month:\n"
     ]
    }
   ],
   "source": [
    "N=int(input(\"enter software salary per month:\"))\n",
    "L=int(input(\"enter income tax per month:\"))\n",
    "if N>L and N<=L:                                                 # CONDITIONAL STATEMENTS PROGRAM USING S/W SALARY AND \n",
    "    print(\"you have tax for month:\")                                            #IN/TX PER MONTH\n",
    "elif N<L or N!=L:\n",
    "    print(\"you have no tax for month:\")\n",
    "else:\n",
    "    print(\"you are a student:\")\n",
    "    "
   ]
  },
  {
   "cell_type": "code",
   "execution_count": null,
   "id": "8d4e606e",
   "metadata": {},
   "outputs": [],
   "source": [
    "\n",
    "House=3500000\n",
    "Salary=350000\n",
    "if House<=Salary and House!=Salary:\n",
    "    print(\"you have not eligible money for house construction\")    # sample program using conditional statements for house\n",
    "elif House>=Salary or House==Salary:                                  # construction\n",
    "    print(\"you have eligible money for house construction\")\n",
    "else:\n",
    "    print(\"you are a student\")\n",
    "    "
   ]
  }
 ],
 "metadata": {
  "kernelspec": {
   "display_name": "Python 3 (ipykernel)",
   "language": "python",
   "name": "python3"
  },
  "language_info": {
   "codemirror_mode": {
    "name": "ipython",
    "version": 3
   },
   "file_extension": ".py",
   "mimetype": "text/x-python",
   "name": "python",
   "nbconvert_exporter": "python",
   "pygments_lexer": "ipython3",
   "version": "3.11.5"
  }
 },
 "nbformat": 4,
 "nbformat_minor": 5
}
