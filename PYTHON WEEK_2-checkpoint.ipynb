{
 "cells": [
  {
   "cell_type": "code",
   "execution_count": 1,
   "id": "1542f9f5",
   "metadata": {},
   "outputs": [
    {
     "name": "stdout",
     "output_type": "stream",
     "text": [
      "25\n",
      "1\n",
      "1.0833333333333333\n",
      "156\n",
      "106993205379072\n",
      "1\n",
      "1\n"
     ]
    }
   ],
   "source": [
    "A=12\n",
    "B=13\n",
    "C=A+B\n",
    "D=B-A\n",
    "E=B/A\n",
    "F=A*B\n",
    "G=A**B\n",
    "H=B//A\n",
    "I=B%A                                                        # ARITHMETIC OPERATORS\n",
    "print(C)\n",
    "print(D)\n",
    "print(E)\n",
    "print(F)\n",
    "print(G)\n",
    "print(H)\n",
    "print(I)\n"
   ]
  },
  {
   "cell_type": "code",
   "execution_count": null,
   "id": "6b11ce1c",
   "metadata": {},
   "outputs": [],
   "source": [
    "                                             # ASSIGNMENT OPERATORS"
   ]
  },
  {
   "cell_type": "code",
   "execution_count": 4,
   "id": "b1b7f728",
   "metadata": {},
   "outputs": [
    {
     "name": "stdout",
     "output_type": "stream",
     "text": [
      "40\n"
     ]
    }
   ],
   "source": [
    "a=25\n",
    "b=15\n",
    "a=a+b\n",
    "print(a)\n"
   ]
  },
  {
   "cell_type": "code",
   "execution_count": 5,
   "id": "a31f6915",
   "metadata": {},
   "outputs": [
    {
     "name": "stdout",
     "output_type": "stream",
     "text": [
      "10\n"
     ]
    }
   ],
   "source": [
    "a=25\n",
    "b=15\n",
    "a=a-b\n",
    "print(a)\n"
   ]
  },
  {
   "cell_type": "code",
   "execution_count": 6,
   "id": "e2c5d020",
   "metadata": {},
   "outputs": [
    {
     "name": "stdout",
     "output_type": "stream",
     "text": [
      "375\n"
     ]
    }
   ],
   "source": [
    "a=25\n",
    "b=15\n",
    "a=a*b\n",
    "print(a)\n"
   ]
  },
  {
   "cell_type": "code",
   "execution_count": 7,
   "id": "c8033d5f",
   "metadata": {},
   "outputs": [
    {
     "name": "stdout",
     "output_type": "stream",
     "text": [
      "1.6666666666666667\n"
     ]
    }
   ],
   "source": [
    "a=25\n",
    "b=15\n",
    "a=a/b\n",
    "print(a)\n"
   ]
  },
  {
   "cell_type": "code",
   "execution_count": 8,
   "id": "3fc60761",
   "metadata": {},
   "outputs": [
    {
     "name": "stdout",
     "output_type": "stream",
     "text": [
      "1\n"
     ]
    }
   ],
   "source": [
    "a=25\n",
    "b=15\n",
    "a=a//b\n",
    "print(a)\n"
   ]
  },
  {
   "cell_type": "code",
   "execution_count": 9,
   "id": "294dea51",
   "metadata": {},
   "outputs": [
    {
     "name": "stdout",
     "output_type": "stream",
     "text": [
      "10\n"
     ]
    }
   ],
   "source": [
    "a=25\n",
    "b=15\n",
    "a=a%b\n",
    "print(a)\n"
   ]
  },
  {
   "cell_type": "code",
   "execution_count": 10,
   "id": "7336ba13",
   "metadata": {},
   "outputs": [
    {
     "name": "stdout",
     "output_type": "stream",
     "text": [
      "931322574615478515625\n"
     ]
    }
   ],
   "source": [
    "a=25\n",
    "b=15\n",
    "a=a**b\n",
    "print(a)\n"
   ]
  },
  {
   "cell_type": "code",
   "execution_count": null,
   "id": "9fae4248",
   "metadata": {},
   "outputs": [],
   "source": [
    "                                            # RELATIONAL OPERATORS\n",
    "    "
   ]
  },
  {
   "cell_type": "code",
   "execution_count": 11,
   "id": "0761bb10",
   "metadata": {},
   "outputs": [
    {
     "name": "stdout",
     "output_type": "stream",
     "text": [
      "False\n",
      "True\n",
      "False\n",
      "True\n",
      "False\n",
      "True\n"
     ]
    }
   ],
   "source": [
    "A=540\n",
    "B=620\n",
    "print(A>B)\n",
    "print(A<B)\n",
    "print(A==B)\n",
    "print(A!=B)\n",
    "print(A>=B)\n",
    "print(A<=B)\n"
   ]
  },
  {
   "cell_type": "code",
   "execution_count": 18,
   "id": "737c193d",
   "metadata": {},
   "outputs": [
    {
     "name": "stdout",
     "output_type": "stream",
     "text": [
      "True\n"
     ]
    }
   ],
   "source": [
    "A=678\n",
    "B=435\n",
    "print(A>B and A!=B)                            # LOGICAL AND OPERATOR\n",
    "\n",
    "    "
   ]
  },
  {
   "cell_type": "code",
   "execution_count": 19,
   "id": "3cce1eea",
   "metadata": {},
   "outputs": [
    {
     "name": "stdout",
     "output_type": "stream",
     "text": [
      "True\n"
     ]
    }
   ],
   "source": [
    "A=345\n",
    "B=786\n",
    "print(A<B or A>=B)                              # LOGICAL OR OPERATOR\n"
   ]
  },
  {
   "cell_type": "code",
   "execution_count": 20,
   "id": "a646a7d6",
   "metadata": {},
   "outputs": [
    {
     "name": "stdout",
     "output_type": "stream",
     "text": [
      "True\n"
     ]
    }
   ],
   "source": [
    "A=580\n",
    "B=679                                            # LOGICAL NOT OPERATOR\n",
    "print(not(A>B and B>A))\n"
   ]
  },
  {
   "cell_type": "code",
   "execution_count": 21,
   "id": "720d4350",
   "metadata": {},
   "outputs": [
    {
     "name": "stdout",
     "output_type": "stream",
     "text": [
      "False\n",
      "True\n"
     ]
    }
   ],
   "source": [
    "A=[124,4.56,\"SARAN\",\"5+6J\"]\n",
    "B=[234,678,\"LEELA\",\"VINAY\"]\n",
    "print(A is B)                                      # IDENTITY OPERATORS\n",
    "print(A is not B)\n"
   ]
  },
  {
   "cell_type": "code",
   "execution_count": 22,
   "id": "701af85b",
   "metadata": {},
   "outputs": [
    {
     "name": "stdout",
     "output_type": "stream",
     "text": [
      "True\n",
      "False\n"
     ]
    }
   ],
   "source": [
    "P=[1.1,2.34,456.8,\"ANNAVARAM\",\"SHIRDI\"]\n",
    "Q=[23,3496,\"MOTHER\",\"FATHER\",\"SISTER\",\"SON\"]           # MEMBERSHIP OPERATORS\n",
    "print(2.34 in P)\n",
    "print(\"SON\" not in Q)\n"
   ]
  },
  {
   "cell_type": "code",
   "execution_count": 29,
   "id": "6c2c508f",
   "metadata": {},
   "outputs": [
    {
     "name": "stdout",
     "output_type": "stream",
     "text": [
      "5\n"
     ]
    }
   ],
   "source": [
    "a=6\n",
    "b=3                                                        #BITWISE OPERATORS\n",
    "print(a^b)"
   ]
  },
  {
   "cell_type": "code",
   "execution_count": 30,
   "id": "f540add3",
   "metadata": {},
   "outputs": [
    {
     "name": "stdout",
     "output_type": "stream",
     "text": [
      "2\n"
     ]
    }
   ],
   "source": [
    "a=6\n",
    "b=3\n",
    "print(a&b)"
   ]
  },
  {
   "cell_type": "code",
   "execution_count": 31,
   "id": "dc4da74f",
   "metadata": {},
   "outputs": [
    {
     "name": "stdout",
     "output_type": "stream",
     "text": [
      "48\n"
     ]
    }
   ],
   "source": [
    "a=6\n",
    "b=3\n",
    "print(a<<b)"
   ]
  },
  {
   "cell_type": "code",
   "execution_count": 32,
   "id": "bb18e7a7",
   "metadata": {},
   "outputs": [
    {
     "name": "stdout",
     "output_type": "stream",
     "text": [
      "2\n"
     ]
    }
   ],
   "source": [
    "a=8\n",
    "b=2\n",
    "print(a>>b)\n"
   ]
  },
  {
   "cell_type": "code",
   "execution_count": 33,
   "id": "9394dd4d",
   "metadata": {},
   "outputs": [
    {
     "name": "stdout",
     "output_type": "stream",
     "text": [
      "7\n"
     ]
    }
   ],
   "source": [
    "a=6\n",
    "b=3\n",
    "print(a|b)"
   ]
  },
  {
   "cell_type": "code",
   "execution_count": 34,
   "id": "62363eaf",
   "metadata": {},
   "outputs": [
    {
     "name": "stdout",
     "output_type": "stream",
     "text": [
      "-7\n",
      "-4\n"
     ]
    }
   ],
   "source": [
    "a=6\n",
    "b=3\n",
    "print(~a)\n",
    "print(~b)\n"
   ]
  },
  {
   "cell_type": "code",
   "execution_count": 35,
   "id": "532947eb",
   "metadata": {},
   "outputs": [
    {
     "name": "stdout",
     "output_type": "stream",
     "text": [
      "68.5\n",
      "SARAN\n",
      "[14, 16, 68.5, 580.2, 'SARAN']\n",
      "[16, 68.5, 580.2, 'SARAN', 'PRAJWAL']\n"
     ]
    }
   ],
   "source": [
    "P=[12,14,16,68.5,580.2,\"SARAN\",\"PRAJWAL\"]\n",
    "print(P[3])\n",
    "print(P[-2])                                                       # ACCESING AND SLICING THE LIST\n",
    "print(P[1:6])                                             \n",
    "print(P[2:])"
   ]
  },
  {
   "cell_type": "code",
   "execution_count": 39,
   "id": "be18a246",
   "metadata": {},
   "outputs": [
    {
     "name": "stdout",
     "output_type": "stream",
     "text": [
      "[13, 14, 15]\n"
     ]
    }
   ],
   "source": [
    "T=[12,13,14,15]\n",
    "T.remove(12)\n",
    "print(T)                                                        # REMOVE OF LIST\n",
    "\n"
   ]
  },
  {
   "cell_type": "code",
   "execution_count": 40,
   "id": "e4496a65",
   "metadata": {},
   "outputs": [
    {
     "name": "stdout",
     "output_type": "stream",
     "text": [
      "3\n"
     ]
    }
   ],
   "source": [
    "Y=[12,14,16,18,20]\n",
    "Y.index(18)                                                     # INDEX OF LIST\n",
    "print(Y.index(18))\n"
   ]
  },
  {
   "cell_type": "code",
   "execution_count": 41,
   "id": "21c39a58",
   "metadata": {},
   "outputs": [
    {
     "name": "stdout",
     "output_type": "stream",
     "text": [
      "2\n"
     ]
    }
   ],
   "source": [
    "H=[10,10,15,20,25,30]\n",
    "H.count(10)                                                   # COUNT OF LIST\n",
    "print(H.count(10))\n"
   ]
  },
  {
   "cell_type": "code",
   "execution_count": 47,
   "id": "9698778d",
   "metadata": {},
   "outputs": [
    {
     "name": "stdout",
     "output_type": "stream",
     "text": [
      "[15, 16, 17, 19]\n"
     ]
    }
   ],
   "source": [
    "K=[15,16,17,18,19]\n",
    "K.pop(3)                                                     # POP OF LIST\n",
    "print(K)\n"
   ]
  },
  {
   "cell_type": "code",
   "execution_count": 49,
   "id": "ac20fd02",
   "metadata": {},
   "outputs": [
    {
     "name": "stdout",
     "output_type": "stream",
     "text": [
      "[12, 13, 14, 15]\n"
     ]
    }
   ],
   "source": [
    "W=[12,13,14]\n",
    "W.append(15)                                                 # APPEND OF LIST\n",
    "print(W)\n"
   ]
  },
  {
   "cell_type": "code",
   "execution_count": 54,
   "id": "46c70b6c",
   "metadata": {},
   "outputs": [
    {
     "name": "stdout",
     "output_type": "stream",
     "text": [
      "[13, 14, 15, 16, 9, 10]\n"
     ]
    }
   ],
   "source": [
    "L=[13,14,15,16]\n",
    "L.extend([9,10])                                             # EXTEND OF LIST\n",
    "print(L)\n"
   ]
  },
  {
   "cell_type": "code",
   "execution_count": 58,
   "id": "f57415bb",
   "metadata": {},
   "outputs": [
    {
     "name": "stdout",
     "output_type": "stream",
     "text": [
      "[12, 'SAI', 'leela', 'SARAN', 69.8]\n"
     ]
    }
   ],
   "source": [
    "U=[12,\"SAI\",\"SARAN\",69.8]\n",
    "U.insert(2,\"leela\")                                         # INSERT OF LIST\n",
    "print(U)\n"
   ]
  },
  {
   "cell_type": "code",
   "execution_count": 27,
   "id": "4e64529f",
   "metadata": {},
   "outputs": [
    {
     "name": "stdout",
     "output_type": "stream",
     "text": [
      "['Apple', 'Banana', 'CHERRY', 'GRAPES', 'POMEGRANATE']\n"
     ]
    }
   ],
   "source": [
    "R=[\"CHERRY\",\"Banana\",\"GRAPES\",\"Apple\",\"POMEGRANATE\"]\n",
    "R.sort()\n",
    "print(R)                                                     # SORT OF LIST\n"
   ]
  },
  {
   "cell_type": "code",
   "execution_count": 28,
   "id": "003f5ce7",
   "metadata": {},
   "outputs": [
    {
     "name": "stdout",
     "output_type": "stream",
     "text": [
      "[115, 104, 94, 83, 75, 67]\n"
     ]
    }
   ],
   "source": [
    "W=[67,75,83,94,104,115]\n",
    "W.reverse()                                                   # REVERSE OF LIST\n",
    "print(W)"
   ]
  },
  {
   "cell_type": "code",
   "execution_count": 64,
   "id": "3b5c2bb4",
   "metadata": {},
   "outputs": [
    {
     "name": "stdout",
     "output_type": "stream",
     "text": [
      "789.4\n",
      "(789.4, 'DIYAN')\n"
     ]
    }
   ],
   "source": [
    "R1=(1235,789.4,\"DIYAN\",\"PRAJWAL\")\n",
    "print(R1[1])                                             # ACCESING AND SLICING THE TUPLE\n",
    "print(R1[1:3])\n"
   ]
  },
  {
   "cell_type": "code",
   "execution_count": 63,
   "id": "53935901",
   "metadata": {},
   "outputs": [
    {
     "name": "stdout",
     "output_type": "stream",
     "text": [
      "(1235, 789.4, 'DIYAN', 'PRAJWAL', 234, 'BHAVANI', (5+8j))\n"
     ]
    }
   ],
   "source": [
    "R1=(1235,789.4,\"DIYAN\",\"PRAJWAL\")\n",
    "R2=(234,\"BHAVANI\",5+8J)\n",
    "R3=R1+R2                                                    # CONCATENATION OF TUPLE\n",
    "print(R3)\n"
   ]
  },
  {
   "cell_type": "code",
   "execution_count": 65,
   "id": "f3a8bb03",
   "metadata": {},
   "outputs": [
    {
     "name": "stdout",
     "output_type": "stream",
     "text": [
      "['DATA SCIENCE PROJECT', 'DATA SCIENCE PROJECT']\n"
     ]
    }
   ],
   "source": [
    "Y1=[\"DATA SCIENCE PROJECT\"]\n",
    "Y=Y1*2\n",
    "print(Y)                                                  # REPETITION OF TUPLE\n"
   ]
  },
  {
   "cell_type": "code",
   "execution_count": 67,
   "id": "0f5872d8",
   "metadata": {},
   "outputs": [
    {
     "name": "stdout",
     "output_type": "stream",
     "text": [
      "3\n"
     ]
    }
   ],
   "source": [
    "K=(12,12,12,34,56,67,80)\n",
    "K.count(12)                                                # COUNT OF TUPLE\n",
    "print(K.count(12))\n"
   ]
  },
  {
   "cell_type": "code",
   "execution_count": 68,
   "id": "a9519ef3",
   "metadata": {},
   "outputs": [
    {
     "name": "stdout",
     "output_type": "stream",
     "text": [
      "2\n"
     ]
    }
   ],
   "source": [
    "L=(35,45,58,69,80)\n",
    "L.index(58)                                                # INDEX OF TUPLE\n",
    "print(L.index(58))\n"
   ]
  },
  {
   "cell_type": "code",
   "execution_count": 84,
   "id": "3e25e1b8",
   "metadata": {},
   "outputs": [
    {
     "name": "stdout",
     "output_type": "stream",
     "text": [
      "DIYAN\n",
      "80\n",
      "SOFTWARE DEVELOPER\n",
      "dict_items([('NAME', 'DIYAN'), ('AGE', '23'), ('QUALIFICATION', 'MTECH'), ('PERCENTAGE', 80), ('JOB', 'SOFTWARE DEVELOPER')])\n",
      "dict_values(['DIYAN', '23', 'MTECH', 80, 'SOFTWARE DEVELOPER'])\n",
      "('JOB', 'SOFTWARE DEVELOPER')\n",
      "MTECH\n"
     ]
    }
   ],
   "source": [
    "N={\"NAME\" : \"DIYAN\",\"AGE\" : \"23\",\"QUALIFICATION\" : \"MTECH\",\"PERCENTAGE\" : 80,\"JOB\" : \"SOFTWARE DEVELOPER\"}\n",
    "print(N[\"NAME\"])\n",
    "print(N[\"PERCENTAGE\"])                                     # ACCESING THE DICTIONARY\n",
    "print(N[\"JOB\"])\n",
    "print(N.items())\n",
    "print(N.values())\n",
    "print(N.popitem())\n",
    "print(N.get(\"QUALIFICATION\"))\n",
    "\n"
   ]
  },
  {
   "cell_type": "code",
   "execution_count": 86,
   "id": "386c85c8",
   "metadata": {},
   "outputs": [
    {
     "name": "stdout",
     "output_type": "stream",
     "text": [
      "{85, 56, 91, 108, 12, 14, 79}\n",
      "<class 'set'>\n"
     ]
    }
   ],
   "source": [
    "T={12,14,56,79,85,91,108}\n",
    "print(T)                                                       # CREATING A SET\n",
    "print(type(T))                                                 "
   ]
  },
  {
   "cell_type": "code",
   "execution_count": 88,
   "id": "ee3199e9",
   "metadata": {},
   "outputs": [
    {
     "name": "stdout",
     "output_type": "stream",
     "text": [
      "{167, 136, 455, 12, 45, 143, 113, 369, 5555, 9877, 56, 125}\n"
     ]
    }
   ],
   "source": [
    "Y={12,113,125,136,143,167}\n",
    "L={45,56,369,455,5555,9877}\n",
    "P=Y.union(L)                                                    # UNION OF SET\n",
    "print(P)\n"
   ]
  },
  {
   "cell_type": "code",
   "execution_count": 89,
   "id": "c142f1c4",
   "metadata": {},
   "outputs": [
    {
     "name": "stdout",
     "output_type": "stream",
     "text": [
      "{11, 12}\n"
     ]
    }
   ],
   "source": [
    "R={11,12,12,14,15,16}\n",
    "W={12,17,18,19,11,11}                                         # INTERSECTION OF SET\n",
    "E=R.intersection(W)\n",
    "print(E)"
   ]
  },
  {
   "cell_type": "code",
   "execution_count": 90,
   "id": "665e2d5e",
   "metadata": {},
   "outputs": [
    {
     "name": "stdout",
     "output_type": "stream",
     "text": [
      "{3, 4, 11, 12, 13, 14}\n"
     ]
    }
   ],
   "source": [
    "G={5,6,7,8,9,10}\n",
    "H={4,3,11,12,13,14}\n",
    "M=H-G                                                         # DIFFERENCE OF SET\n",
    "print(M)\n"
   ]
  },
  {
   "cell_type": "code",
   "execution_count": 91,
   "id": "6a6ff322",
   "metadata": {},
   "outputs": [
    {
     "name": "stdout",
     "output_type": "stream",
     "text": [
      "{13, 14, 15, 16, 17, 18, 19, 20, 21}\n"
     ]
    }
   ],
   "source": [
    "C={11,11,12,12,13,14,15,16,17}\n",
    "Z={11,11,12,12,18,19,20,21}                                   # SYMMETRIC DIFFERENCE OF SET\n",
    "W=C ^ Z\n",
    "print(W)\n"
   ]
  },
  {
   "cell_type": "code",
   "execution_count": 94,
   "id": "0bdb14d2",
   "metadata": {},
   "outputs": [
    {
     "name": "stdout",
     "output_type": "stream",
     "text": [
      "{16, 17, 13, 14, 15}\n"
     ]
    }
   ],
   "source": [
    "B={12, 12,13,14,15,16,17}\n",
    "P1=B.remove(12)                                                # REMOVE ELEMENT OF SET\n",
    "print(B)\n"
   ]
  },
  {
   "cell_type": "code",
   "execution_count": 1,
   "id": "2f40abe2",
   "metadata": {},
   "outputs": [
    {
     "name": "stdout",
     "output_type": "stream",
     "text": [
      "enter software salary per month:67000\n",
      "enter income tax per month:3450\n",
      "you have no tax for month:\n"
     ]
    }
   ],
   "source": [
    "N=int(input(\"enter software salary per month:\"))\n",
    "L=int(input(\"enter income tax per month:\"))\n",
    "if N>L and N<=L:                                                 # CONDITIONAL STATEMENTS PROGRAM USING S/W SALARY AND \n",
    "    print(\"you have tax for month:\")                                            #IN/TX PER MONTH\n",
    "elif N<L or N!=L:\n",
    "    print(\"you have no tax for month:\")\n",
    "else:\n",
    "    print(\"you are a student:\")\n",
    "    "
   ]
  },
  {
   "cell_type": "code",
   "execution_count": 2,
   "id": "e4fc3642",
   "metadata": {},
   "outputs": [
    {
     "name": "stdout",
     "output_type": "stream",
     "text": [
      "DIYAN DEV\n",
      "('SARAN', 'DIYAN DEV', 'PRAJWAL SAI', 'VINAY')\n"
     ]
    }
   ],
   "source": [
    "H=(\"SAI\",\"SARAN\",\"DIYAN DEV\",\"PRAJWAL SAI\",\"VINAY\",\"LEELA\")\n",
    "print(H[2])\n",
    "print(H[1:5])                                                  # ACCESING AND SLICING THE STRINGS\n",
    "\n"
   ]
  },
  {
   "cell_type": "code",
   "execution_count": 2,
   "id": "5f3632d2",
   "metadata": {},
   "outputs": [
    {
     "name": "stdout",
     "output_type": "stream",
     "text": [
      "hai my name is saran and the age is 23 current location is hyderabad and my qualification is btech\n"
     ]
    }
   ],
   "source": [
    "name=\"saran\"\n",
    "age=23\n",
    "location=\"hyderabad\"                                          # F STRING METHOD\n",
    "qualification=\"btech\"\n",
    "print(f\"hai my name is {name} and the age is {age} current location is {location} and my qualification is {qualification}\")"
   ]
  },
  {
   "cell_type": "code",
   "execution_count": 6,
   "id": "d1e7b611",
   "metadata": {},
   "outputs": [
    {
     "name": "stdout",
     "output_type": "stream",
     "text": [
      "saran\n"
     ]
    }
   ],
   "source": [
    "W=\"SARAN\"\n",
    "L=W.lower()                                                    # LOWER OF STRING\n",
    "print(L)\n"
   ]
  },
  {
   "cell_type": "code",
   "execution_count": 8,
   "id": "6872bfa2",
   "metadata": {},
   "outputs": [
    {
     "name": "stdout",
     "output_type": "stream",
     "text": [
      "BABA TEMPLE IS LOCATED IN SHIRDI AT MAHARASHTRA\n"
     ]
    }
   ],
   "source": [
    "Y=\"baba temple is located in shirdi at maharashtra\"\n",
    "T=Y.upper()                                                     # UPPER OF STRING\n",
    "print(T)"
   ]
  },
  {
   "cell_type": "code",
   "execution_count": 9,
   "id": "bafbbc14",
   "metadata": {},
   "outputs": [
    {
     "name": "stdout",
     "output_type": "stream",
     "text": [
      "['To', 'learn', 'the', 'data', 'science', 'kindly', 'choose', 'one', 'programming', 'language']\n"
     ]
    }
   ],
   "source": [
    "N=\"To learn the data science kindly choose one programming language\"\n",
    "K=N.split()                                                             # SPLIT OF STRING\n",
    "print(K)                                                                "
   ]
  },
  {
   "cell_type": "code",
   "execution_count": 10,
   "id": "65fd6cf2",
   "metadata": {},
   "outputs": [
    {
     "name": "stdout",
     "output_type": "stream",
     "text": [
      "9\n"
     ]
    }
   ],
   "source": [
    "R=\"SRISAILAM\"\n",
    "P=len(R)                                                               # LENGTH OF STRING\n",
    "print(P)\n"
   ]
  },
  {
   "cell_type": "code",
   "execution_count": 11,
   "id": "a1a7935e",
   "metadata": {},
   "outputs": [
    {
     "name": "stdout",
     "output_type": "stream",
     "text": [
      "MACHINE LEARNING ALGORITHMS IS A PART OF DATA SCIENCE COURSE\n"
     ]
    }
   ],
   "source": [
    "W=\"  MACHINE LEARNING ALGORITHMS IS A PART OF DATA SCIENCE COURSE  \"\n",
    "H=W.strip()                                                            # STRIP OF STRING\n",
    "print(H)                                                                \n"
   ]
  },
  {
   "cell_type": "code",
   "execution_count": 20,
   "id": "301093b8",
   "metadata": {},
   "outputs": [
    {
     "name": "stdout",
     "output_type": "stream",
     "text": [
      "PROGRAMMING MATHEMATICS\n"
     ]
    }
   ],
   "source": [
    "W=\"PROGRAMMING\"\n",
    "E=\"MATHEMATICS\"\n",
    "R=W+\" \"+E                                                                # CONCATENATION OF STRING\n",
    "print(R)\n"
   ]
  },
  {
   "cell_type": "code",
   "execution_count": 19,
   "id": "82c3f688",
   "metadata": {},
   "outputs": [
    {
     "name": "stdout",
     "output_type": "stream",
     "text": [
      "('DATA ANALYST', 'DATA ENGINEER', 'DATA ANALYST', 'DATA ENGINEER', 'DATA ANALYST', 'DATA ENGINEER')\n"
     ]
    }
   ],
   "source": [
    "T=\"DATA ANALYST\",\"DATA ENGINEER\"\n",
    "R=T  *  3                                                              # REPETITION OF STRING\n",
    "print(R)\n"
   ]
  },
  {
   "cell_type": "code",
   "execution_count": null,
   "id": "1bac2fe4",
   "metadata": {},
   "outputs": [],
   "source": []
  }
 ],
 "metadata": {
  "kernelspec": {
   "display_name": "Python 3 (ipykernel)",
   "language": "python",
   "name": "python3"
  },
  "language_info": {
   "codemirror_mode": {
    "name": "ipython",
    "version": 3
   },
   "file_extension": ".py",
   "mimetype": "text/x-python",
   "name": "python",
   "nbconvert_exporter": "python",
   "pygments_lexer": "ipython3",
   "version": "3.11.5"
  }
 },
 "nbformat": 4,
 "nbformat_minor": 5
}
