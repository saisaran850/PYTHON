{
 "cells": [
  {
   "cell_type": "code",
   "execution_count": null,
   "id": "7f3e1aed",
   "metadata": {},
   "outputs": [],
   "source": [
    "                                                       ASSIGNMENT 2"
   ]
  },
  {
   "cell_type": "code",
   "execution_count": 4,
   "id": "ad7c3ae3",
   "metadata": {},
   "outputs": [
    {
     "name": "stdout",
     "output_type": "stream",
     "text": [
      "<class 'int'>\n",
      "<class 'float'>\n",
      "<class 'complex'>\n"
     ]
    }
   ],
   "source": [
    "a=56\n",
    "b=78.9\n",
    "c=9+6j\n",
    "print(type(a))\n",
    "print(type(b))\n",
    "print(type(c))\n"
   ]
  },
  {
   "cell_type": "code",
   "execution_count": 5,
   "id": "074c96c8",
   "metadata": {},
   "outputs": [
    {
     "name": "stdout",
     "output_type": "stream",
     "text": [
      "78.0\n",
      "67\n",
      "(78+0j)\n"
     ]
    }
   ],
   "source": [
    "A=78\n",
    "B=67.8\n",
    "C=8+5j\n",
    "D=float(A)\n",
    "E=int(B)\n",
    "F=complex(A)\n",
    "print(D)\n",
    "print(E)\n",
    "print(F)\n"
   ]
  },
  {
   "cell_type": "code",
   "execution_count": 6,
   "id": "54ddfe72",
   "metadata": {},
   "outputs": [
    {
     "name": "stdout",
     "output_type": "stream",
     "text": [
      "True\n",
      "False\n",
      "False\n"
     ]
    }
   ],
   "source": [
    "print(756>570)\n",
    "print(789==899)\n",
    "print(455<349)\n"
   ]
  },
  {
   "cell_type": "code",
   "execution_count": 7,
   "id": "0c66abb8",
   "metadata": {},
   "outputs": [
    {
     "name": "stdout",
     "output_type": "stream",
     "text": [
      "60\n",
      "20\n",
      "800\n",
      "2.0\n",
      "109951162777600000000000000000000\n",
      "2\n",
      "0\n"
     ]
    }
   ],
   "source": [
    "S=20\n",
    "Q=40\n",
    "J=S+Q\n",
    "L=Q-S\n",
    "P=S*Q\n",
    "D=Q/S\n",
    "H=Q**S\n",
    "R=Q//S\n",
    "B=Q%S\n",
    "print(J)\n",
    "print(L)\n",
    "print(P)\n",
    "print(D)\n",
    "print(H)\n",
    "print(R)\n",
    "print(B)\n"
   ]
  },
  {
   "cell_type": "code",
   "execution_count": null,
   "id": "97ec71dd",
   "metadata": {},
   "outputs": [],
   "source": []
  }
 ],
 "metadata": {
  "kernelspec": {
   "display_name": "Python 3 (ipykernel)",
   "language": "python",
   "name": "python3"
  },
  "language_info": {
   "codemirror_mode": {
    "name": "ipython",
    "version": 3
   },
   "file_extension": ".py",
   "mimetype": "text/x-python",
   "name": "python",
   "nbconvert_exporter": "python",
   "pygments_lexer": "ipython3",
   "version": "3.11.5"
  }
 },
 "nbformat": 4,
 "nbformat_minor": 5
}
